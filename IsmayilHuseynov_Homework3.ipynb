{
  "nbformat": 4,
  "nbformat_minor": 0,
  "metadata": {
    "colab": {
      "provenance": []
    },
    "kernelspec": {
      "name": "python3",
      "display_name": "Python 3"
    },
    "language_info": {
      "name": "python"
    }
  },
  "cells": [
    {
      "cell_type": "code",
      "execution_count": 2,
      "metadata": {
        "id": "hTfxaTM5jqZY"
      },
      "outputs": [],
      "source": [
        "import pandas as pd\n",
        "import numpy as np\n",
        "import matplotlib.pyplot as plt\n",
        "import seaborn as sns"
      ]
    },
    {
      "cell_type": "code",
      "source": [
        "#Q1-Read the data https://raw.githubusercontent.com/ogut77/DataScience/main/data/diamond.csv\n",
        "df = pd.read_csv('https://raw.githubusercontent.com/ogut77/DataScience/main/data/diamond.csv')\n"
      ],
      "metadata": {
        "id": "T8jnje1Il-St"
      },
      "execution_count": 3,
      "outputs": []
    },
    {
      "cell_type": "markdown",
      "source": [
        "The description of dataset is given below.\n",
        "\n",
        "•\tID: Uniquely identifies each observation (diamond)\n",
        "\n",
        "•\tCarat Weight: The weight of the diamond in metric carats. One carat is equal to 0.2 grams, roughly the same weight as a paperclip\n",
        "\n",
        "•\tCut: One of five values indicating the cut of the diamond in the following order of desirability (Signature-Ideal, Ideal, Very Good, Good, Fair)\n",
        "\n",
        "•\tColor: One of six values indicating the diamond's color in the following order of desirability (D, E, F - Colorless, G, H, I - Near colorless)\n",
        "\n",
        "•\tClarity: One of seven values indicating the diamond's clarity in the following order of desirability (F - Flawless, IF - Internally Flawless, VVS1 or VVS2 - Very, Very Slightly Included, or VS1 or VS2 - Very Slightly Included, SI1 - Slightly Included)\n",
        "\n",
        "•\tPolish: One of four values indicating the diamond's polish (ID - Ideal, EX - Excellent, VG - Very Good, G - Good)\n",
        "\n",
        "•\tSymmetry: One of four values indicating the diamond's symmetry (ID - Ideal, EX - Excellent, VG - Very Good, G - Good)\n",
        "\n",
        "•\tReport: One of of two values \"AGSL\" or \"GIA\" indicating which grading agency reported the qualities of the diamond qualities\n",
        "\n",
        "•\tPrice: The The amount in USD that the diamond is valued\n"
      ],
      "metadata": {
        "id": "BuaIQNSwKfh7"
      }
    },
    {
      "cell_type": "code",
      "source": [
        "#Q2-Get first 2 rows of data\n",
        "df.head(2)"
      ],
      "metadata": {
        "colab": {
          "base_uri": "https://localhost:8080/",
          "height": 112
        },
        "id": "3tA-6vOnlW-V",
        "outputId": "85aa3562-c04a-46a9-c098-f03458dd7f71"
      },
      "execution_count": 4,
      "outputs": [
        {
          "output_type": "execute_result",
          "data": {
            "text/plain": [
              "   Carat Weight    Cut Color Clarity Polish Symmetry Report  Price\n",
              "0          1.10  Ideal     H     SI1     VG       EX    GIA   5169\n",
              "1          0.83  Ideal     H     VS1     ID       ID   AGSL   3470"
            ],
            "text/html": [
              "\n",
              "  <div id=\"df-bfaf5c5d-533c-4a3b-ba08-f275ee19cc42\">\n",
              "    <div class=\"colab-df-container\">\n",
              "      <div>\n",
              "<style scoped>\n",
              "    .dataframe tbody tr th:only-of-type {\n",
              "        vertical-align: middle;\n",
              "    }\n",
              "\n",
              "    .dataframe tbody tr th {\n",
              "        vertical-align: top;\n",
              "    }\n",
              "\n",
              "    .dataframe thead th {\n",
              "        text-align: right;\n",
              "    }\n",
              "</style>\n",
              "<table border=\"1\" class=\"dataframe\">\n",
              "  <thead>\n",
              "    <tr style=\"text-align: right;\">\n",
              "      <th></th>\n",
              "      <th>Carat Weight</th>\n",
              "      <th>Cut</th>\n",
              "      <th>Color</th>\n",
              "      <th>Clarity</th>\n",
              "      <th>Polish</th>\n",
              "      <th>Symmetry</th>\n",
              "      <th>Report</th>\n",
              "      <th>Price</th>\n",
              "    </tr>\n",
              "  </thead>\n",
              "  <tbody>\n",
              "    <tr>\n",
              "      <th>0</th>\n",
              "      <td>1.10</td>\n",
              "      <td>Ideal</td>\n",
              "      <td>H</td>\n",
              "      <td>SI1</td>\n",
              "      <td>VG</td>\n",
              "      <td>EX</td>\n",
              "      <td>GIA</td>\n",
              "      <td>5169</td>\n",
              "    </tr>\n",
              "    <tr>\n",
              "      <th>1</th>\n",
              "      <td>0.83</td>\n",
              "      <td>Ideal</td>\n",
              "      <td>H</td>\n",
              "      <td>VS1</td>\n",
              "      <td>ID</td>\n",
              "      <td>ID</td>\n",
              "      <td>AGSL</td>\n",
              "      <td>3470</td>\n",
              "    </tr>\n",
              "  </tbody>\n",
              "</table>\n",
              "</div>\n",
              "      <button class=\"colab-df-convert\" onclick=\"convertToInteractive('df-bfaf5c5d-533c-4a3b-ba08-f275ee19cc42')\"\n",
              "              title=\"Convert this dataframe to an interactive table.\"\n",
              "              style=\"display:none;\">\n",
              "        \n",
              "  <svg xmlns=\"http://www.w3.org/2000/svg\" height=\"24px\"viewBox=\"0 0 24 24\"\n",
              "       width=\"24px\">\n",
              "    <path d=\"M0 0h24v24H0V0z\" fill=\"none\"/>\n",
              "    <path d=\"M18.56 5.44l.94 2.06.94-2.06 2.06-.94-2.06-.94-.94-2.06-.94 2.06-2.06.94zm-11 1L8.5 8.5l.94-2.06 2.06-.94-2.06-.94L8.5 2.5l-.94 2.06-2.06.94zm10 10l.94 2.06.94-2.06 2.06-.94-2.06-.94-.94-2.06-.94 2.06-2.06.94z\"/><path d=\"M17.41 7.96l-1.37-1.37c-.4-.4-.92-.59-1.43-.59-.52 0-1.04.2-1.43.59L10.3 9.45l-7.72 7.72c-.78.78-.78 2.05 0 2.83L4 21.41c.39.39.9.59 1.41.59.51 0 1.02-.2 1.41-.59l7.78-7.78 2.81-2.81c.8-.78.8-2.07 0-2.86zM5.41 20L4 18.59l7.72-7.72 1.47 1.35L5.41 20z\"/>\n",
              "  </svg>\n",
              "      </button>\n",
              "      \n",
              "  <style>\n",
              "    .colab-df-container {\n",
              "      display:flex;\n",
              "      flex-wrap:wrap;\n",
              "      gap: 12px;\n",
              "    }\n",
              "\n",
              "    .colab-df-convert {\n",
              "      background-color: #E8F0FE;\n",
              "      border: none;\n",
              "      border-radius: 50%;\n",
              "      cursor: pointer;\n",
              "      display: none;\n",
              "      fill: #1967D2;\n",
              "      height: 32px;\n",
              "      padding: 0 0 0 0;\n",
              "      width: 32px;\n",
              "    }\n",
              "\n",
              "    .colab-df-convert:hover {\n",
              "      background-color: #E2EBFA;\n",
              "      box-shadow: 0px 1px 2px rgba(60, 64, 67, 0.3), 0px 1px 3px 1px rgba(60, 64, 67, 0.15);\n",
              "      fill: #174EA6;\n",
              "    }\n",
              "\n",
              "    [theme=dark] .colab-df-convert {\n",
              "      background-color: #3B4455;\n",
              "      fill: #D2E3FC;\n",
              "    }\n",
              "\n",
              "    [theme=dark] .colab-df-convert:hover {\n",
              "      background-color: #434B5C;\n",
              "      box-shadow: 0px 1px 3px 1px rgba(0, 0, 0, 0.15);\n",
              "      filter: drop-shadow(0px 1px 2px rgba(0, 0, 0, 0.3));\n",
              "      fill: #FFFFFF;\n",
              "    }\n",
              "  </style>\n",
              "\n",
              "      <script>\n",
              "        const buttonEl =\n",
              "          document.querySelector('#df-bfaf5c5d-533c-4a3b-ba08-f275ee19cc42 button.colab-df-convert');\n",
              "        buttonEl.style.display =\n",
              "          google.colab.kernel.accessAllowed ? 'block' : 'none';\n",
              "\n",
              "        async function convertToInteractive(key) {\n",
              "          const element = document.querySelector('#df-bfaf5c5d-533c-4a3b-ba08-f275ee19cc42');\n",
              "          const dataTable =\n",
              "            await google.colab.kernel.invokeFunction('convertToInteractive',\n",
              "                                                     [key], {});\n",
              "          if (!dataTable) return;\n",
              "\n",
              "          const docLinkHtml = 'Like what you see? Visit the ' +\n",
              "            '<a target=\"_blank\" href=https://colab.research.google.com/notebooks/data_table.ipynb>data table notebook</a>'\n",
              "            + ' to learn more about interactive tables.';\n",
              "          element.innerHTML = '';\n",
              "          dataTable['output_type'] = 'display_data';\n",
              "          await google.colab.output.renderOutput(dataTable, element);\n",
              "          const docLink = document.createElement('div');\n",
              "          docLink.innerHTML = docLinkHtml;\n",
              "          element.appendChild(docLink);\n",
              "        }\n",
              "      </script>\n",
              "    </div>\n",
              "  </div>\n",
              "  "
            ]
          },
          "metadata": {},
          "execution_count": 4
        }
      ]
    },
    {
      "cell_type": "code",
      "source": [
        "#Q3-Check if there is missing value\n",
        "print(df.isnull().sum())"
      ],
      "metadata": {
        "id": "Km0DpQwUIj7O",
        "outputId": "e9ddaef6-c52c-48da-e99e-2174eb7cc84a",
        "colab": {
          "base_uri": "https://localhost:8080/"
        }
      },
      "execution_count": 5,
      "outputs": [
        {
          "output_type": "stream",
          "name": "stdout",
          "text": [
            "Carat Weight    0\n",
            "Cut             0\n",
            "Color           0\n",
            "Clarity         0\n",
            "Polish          0\n",
            "Symmetry        0\n",
            "Report          0\n",
            "Price           0\n",
            "dtype: int64\n"
          ]
        }
      ]
    },
    {
      "cell_type": "code",
      "source": [
        "#Q4- Get data information and number of rows and columns\n",
        "df.info()\n",
        "df.shape"
      ],
      "metadata": {
        "colab": {
          "base_uri": "https://localhost:8080/"
        },
        "id": "GzdD_OQYlmQ5",
        "outputId": "04b15be0-0e9b-4ab7-94ea-e70325733e00"
      },
      "execution_count": 28,
      "outputs": [
        {
          "output_type": "stream",
          "name": "stdout",
          "text": [
            "<class 'pandas.core.frame.DataFrame'>\n",
            "RangeIndex: 6000 entries, 0 to 5999\n",
            "Data columns (total 8 columns):\n",
            " #   Column        Non-Null Count  Dtype  \n",
            "---  ------        --------------  -----  \n",
            " 0   Carat Weight  6000 non-null   float64\n",
            " 1   Cut           6000 non-null   object \n",
            " 2   Color         6000 non-null   object \n",
            " 3   Clarity       6000 non-null   object \n",
            " 4   Polish        6000 non-null   object \n",
            " 5   Symmetry      6000 non-null   object \n",
            " 6   Report        6000 non-null   object \n",
            " 7   Price         6000 non-null   int64  \n",
            "dtypes: float64(1), int64(1), object(6)\n",
            "memory usage: 375.1+ KB\n"
          ]
        },
        {
          "output_type": "execute_result",
          "data": {
            "text/plain": [
              "(6000, 8)"
            ]
          },
          "metadata": {},
          "execution_count": 28
        }
      ]
    },
    {
      "cell_type": "code",
      "source": [
        "#Q5-Get descriptive statistics of data\n",
        "df.describe()"
      ],
      "metadata": {
        "colab": {
          "base_uri": "https://localhost:8080/",
          "height": 300
        },
        "id": "qdmnS0TlmE8U",
        "outputId": "c930af3e-09a8-415e-9470-99ac77a9d801"
      },
      "execution_count": 7,
      "outputs": [
        {
          "output_type": "execute_result",
          "data": {
            "text/plain": [
              "       Carat Weight          Price\n",
              "count   6000.000000    6000.000000\n",
              "mean       1.334520   11791.579333\n",
              "std        0.475696   10184.350051\n",
              "min        0.750000    2184.000000\n",
              "25%        1.000000    5150.500000\n",
              "50%        1.130000    7857.000000\n",
              "75%        1.590000   15036.500000\n",
              "max        2.910000  101561.000000"
            ],
            "text/html": [
              "\n",
              "  <div id=\"df-425cae61-89dd-4271-90c7-59a52fe5b97a\">\n",
              "    <div class=\"colab-df-container\">\n",
              "      <div>\n",
              "<style scoped>\n",
              "    .dataframe tbody tr th:only-of-type {\n",
              "        vertical-align: middle;\n",
              "    }\n",
              "\n",
              "    .dataframe tbody tr th {\n",
              "        vertical-align: top;\n",
              "    }\n",
              "\n",
              "    .dataframe thead th {\n",
              "        text-align: right;\n",
              "    }\n",
              "</style>\n",
              "<table border=\"1\" class=\"dataframe\">\n",
              "  <thead>\n",
              "    <tr style=\"text-align: right;\">\n",
              "      <th></th>\n",
              "      <th>Carat Weight</th>\n",
              "      <th>Price</th>\n",
              "    </tr>\n",
              "  </thead>\n",
              "  <tbody>\n",
              "    <tr>\n",
              "      <th>count</th>\n",
              "      <td>6000.000000</td>\n",
              "      <td>6000.000000</td>\n",
              "    </tr>\n",
              "    <tr>\n",
              "      <th>mean</th>\n",
              "      <td>1.334520</td>\n",
              "      <td>11791.579333</td>\n",
              "    </tr>\n",
              "    <tr>\n",
              "      <th>std</th>\n",
              "      <td>0.475696</td>\n",
              "      <td>10184.350051</td>\n",
              "    </tr>\n",
              "    <tr>\n",
              "      <th>min</th>\n",
              "      <td>0.750000</td>\n",
              "      <td>2184.000000</td>\n",
              "    </tr>\n",
              "    <tr>\n",
              "      <th>25%</th>\n",
              "      <td>1.000000</td>\n",
              "      <td>5150.500000</td>\n",
              "    </tr>\n",
              "    <tr>\n",
              "      <th>50%</th>\n",
              "      <td>1.130000</td>\n",
              "      <td>7857.000000</td>\n",
              "    </tr>\n",
              "    <tr>\n",
              "      <th>75%</th>\n",
              "      <td>1.590000</td>\n",
              "      <td>15036.500000</td>\n",
              "    </tr>\n",
              "    <tr>\n",
              "      <th>max</th>\n",
              "      <td>2.910000</td>\n",
              "      <td>101561.000000</td>\n",
              "    </tr>\n",
              "  </tbody>\n",
              "</table>\n",
              "</div>\n",
              "      <button class=\"colab-df-convert\" onclick=\"convertToInteractive('df-425cae61-89dd-4271-90c7-59a52fe5b97a')\"\n",
              "              title=\"Convert this dataframe to an interactive table.\"\n",
              "              style=\"display:none;\">\n",
              "        \n",
              "  <svg xmlns=\"http://www.w3.org/2000/svg\" height=\"24px\"viewBox=\"0 0 24 24\"\n",
              "       width=\"24px\">\n",
              "    <path d=\"M0 0h24v24H0V0z\" fill=\"none\"/>\n",
              "    <path d=\"M18.56 5.44l.94 2.06.94-2.06 2.06-.94-2.06-.94-.94-2.06-.94 2.06-2.06.94zm-11 1L8.5 8.5l.94-2.06 2.06-.94-2.06-.94L8.5 2.5l-.94 2.06-2.06.94zm10 10l.94 2.06.94-2.06 2.06-.94-2.06-.94-.94-2.06-.94 2.06-2.06.94z\"/><path d=\"M17.41 7.96l-1.37-1.37c-.4-.4-.92-.59-1.43-.59-.52 0-1.04.2-1.43.59L10.3 9.45l-7.72 7.72c-.78.78-.78 2.05 0 2.83L4 21.41c.39.39.9.59 1.41.59.51 0 1.02-.2 1.41-.59l7.78-7.78 2.81-2.81c.8-.78.8-2.07 0-2.86zM5.41 20L4 18.59l7.72-7.72 1.47 1.35L5.41 20z\"/>\n",
              "  </svg>\n",
              "      </button>\n",
              "      \n",
              "  <style>\n",
              "    .colab-df-container {\n",
              "      display:flex;\n",
              "      flex-wrap:wrap;\n",
              "      gap: 12px;\n",
              "    }\n",
              "\n",
              "    .colab-df-convert {\n",
              "      background-color: #E8F0FE;\n",
              "      border: none;\n",
              "      border-radius: 50%;\n",
              "      cursor: pointer;\n",
              "      display: none;\n",
              "      fill: #1967D2;\n",
              "      height: 32px;\n",
              "      padding: 0 0 0 0;\n",
              "      width: 32px;\n",
              "    }\n",
              "\n",
              "    .colab-df-convert:hover {\n",
              "      background-color: #E2EBFA;\n",
              "      box-shadow: 0px 1px 2px rgba(60, 64, 67, 0.3), 0px 1px 3px 1px rgba(60, 64, 67, 0.15);\n",
              "      fill: #174EA6;\n",
              "    }\n",
              "\n",
              "    [theme=dark] .colab-df-convert {\n",
              "      background-color: #3B4455;\n",
              "      fill: #D2E3FC;\n",
              "    }\n",
              "\n",
              "    [theme=dark] .colab-df-convert:hover {\n",
              "      background-color: #434B5C;\n",
              "      box-shadow: 0px 1px 3px 1px rgba(0, 0, 0, 0.15);\n",
              "      filter: drop-shadow(0px 1px 2px rgba(0, 0, 0, 0.3));\n",
              "      fill: #FFFFFF;\n",
              "    }\n",
              "  </style>\n",
              "\n",
              "      <script>\n",
              "        const buttonEl =\n",
              "          document.querySelector('#df-425cae61-89dd-4271-90c7-59a52fe5b97a button.colab-df-convert');\n",
              "        buttonEl.style.display =\n",
              "          google.colab.kernel.accessAllowed ? 'block' : 'none';\n",
              "\n",
              "        async function convertToInteractive(key) {\n",
              "          const element = document.querySelector('#df-425cae61-89dd-4271-90c7-59a52fe5b97a');\n",
              "          const dataTable =\n",
              "            await google.colab.kernel.invokeFunction('convertToInteractive',\n",
              "                                                     [key], {});\n",
              "          if (!dataTable) return;\n",
              "\n",
              "          const docLinkHtml = 'Like what you see? Visit the ' +\n",
              "            '<a target=\"_blank\" href=https://colab.research.google.com/notebooks/data_table.ipynb>data table notebook</a>'\n",
              "            + ' to learn more about interactive tables.';\n",
              "          element.innerHTML = '';\n",
              "          dataTable['output_type'] = 'display_data';\n",
              "          await google.colab.output.renderOutput(dataTable, element);\n",
              "          const docLink = document.createElement('div');\n",
              "          docLink.innerHTML = docLinkHtml;\n",
              "          element.appendChild(docLink);\n",
              "        }\n",
              "      </script>\n",
              "    </div>\n",
              "  </div>\n",
              "  "
            ]
          },
          "metadata": {},
          "execution_count": 7
        }
      ]
    },
    {
      "cell_type": "code",
      "source": [
        "#Q6-Use seasoborns heat map to generate following heatmap\n",
        "# annot = True to print the correlation inside the square\n",
        "\n",
        "import seaborn as sns\n",
        "import matplotlib.pyplot as plt\n",
        "fig,ax = plt.subplots(figsize=(6,6))\n",
        "sns.heatmap(df.corr().round(2),ax=ax,annot=True)"
      ],
      "metadata": {
        "colab": {
          "base_uri": "https://localhost:8080/",
          "height": 395
        },
        "id": "FfK17cCgXW0t",
        "outputId": "5ee676a5-c78b-4675-b07a-821c9717ad71"
      },
      "execution_count": 8,
      "outputs": [
        {
          "output_type": "execute_result",
          "data": {
            "text/plain": [
              "<AxesSubplot:>"
            ]
          },
          "metadata": {},
          "execution_count": 8
        },
        {
          "output_type": "display_data",
          "data": {
            "text/plain": [
              "<Figure size 432x432 with 2 Axes>"
            ],
            "image/png": "[encoded data removed]"
          },
          "metadata": {
            "needs_background": "light"
          }
        }
      ]
    },
    {
      "cell_type": "code",
      "source": [
        "#Q7-Use seasoborns paiplot to generate following  diagram\n",
        "sns.pairplot(df)"
      ],
      "metadata": {
        "id": "DRsXK5YSJchH",
        "outputId": "fca47704-db21-4b59-cced-abfba3afaa51",
        "colab": {
          "base_uri": "https://localhost:8080/",
          "height": 391
        }
      },
      "execution_count": 9,
      "outputs": [
        {
          "output_type": "execute_result",
          "data": {
            "text/plain": [
              "<seaborn.axisgrid.PairGrid at 0x7f6880d7f790>"
            ]
          },
          "metadata": {},
          "execution_count": 9
        },
        {
          "output_type": "display_data",
          "data": {
            "text/plain": [
              "<Figure size 360x360 with 6 Axes>"
            ],
            "image/png": "[encoded data removed]"
          },
          "metadata": {
            "needs_background": "light"
          }
        }
      ]
    },
    {
      "cell_type": "code",
      "source": [
        "#Q8-Divide the data so that get Price as ouput variable (Y) and other variables as input varable (X)\n",
        "y=df['Price']\n",
        "X=df.drop(['Price'], axis=1)\n"
      ],
      "metadata": {
        "id": "uaRkCQVMOO6J"
      },
      "execution_count": 10,
      "outputs": []
    },
    {
      "cell_type": "code",
      "source": [
        "#Q9-Create dummy for the input variables (X)\n",
        "X=pd.get_dummies(X)"
      ],
      "metadata": {
        "id": "yOnzVDOaOr7Q"
      },
      "execution_count": 11,
      "outputs": []
    },
    {
      "cell_type": "code",
      "source": [
        "#Q10 -Split the input and output data into two parts: test data (20%) and train data(%80)\n",
        "from sklearn.model_selection import train_test_split\n",
        "import pandas as pd\n",
        "X_train, X_test, y_train, y_test = train_test_split(X,y, test_size = 0.2, random_state = 42)\n",
        "print(X_train.shape)\n",
        "print(y_train.shape)\n",
        "print(X_test.shape)\n",
        "print(y_test.shape)"
      ],
      "metadata": {
        "id": "tF8NMbxaO3BQ",
        "outputId": "a5a185a9-a63d-43f2-b8f8-b7bd5d9dde0f",
        "colab": {
          "base_uri": "https://localhost:8080/"
        }
      },
      "execution_count": 12,
      "outputs": [
        {
          "output_type": "stream",
          "name": "stdout",
          "text": [
            "(4800, 29)\n",
            "(4800,)\n",
            "(1200, 29)\n",
            "(1200,)\n"
          ]
        }
      ]
    },
    {
      "cell_type": "code",
      "source": [],
      "metadata": {
        "id": "rMtQ_dAiRm2C"
      },
      "execution_count": 12,
      "outputs": []
    },
    {
      "cell_type": "code",
      "source": [
        "from sklearn.metrics import mean_absolute_percentage_error\n",
        "from scipy.stats import pearsonr\n",
        "def evalmetric(y,ypred):\n",
        " import numpy as np\n",
        " e = y - ypred \n",
        " mse_f = np.mean(e**2)\n",
        " rmse_f = np.sqrt(mse_f)\n",
        " mae_f = np.mean(abs(e))\n",
        " mape_f = 100*np.mean(abs(e/y))\n",
        " r2_f = 1-(sum(e**2)/sum((y-np.mean(y))**2))\n",
        " print(\"MSE:\", mse_f)\n",
        " print(\"RMSE:\", rmse_f)\n",
        " print(\"MAE:\",mae_f)\n",
        " print(\"MAPE:\",mape_f)\n",
        " print(\"R-Squared:\", r2_f)"
      ],
      "metadata": {
        "id": "dguz6T4nSAGe"
      },
      "execution_count": 13,
      "outputs": []
    },
    {
      "cell_type": "code",
      "source": [
        "#Q11 Use Linear regression to evaluate the performance of test and train data of Linear model  using evalmetric\n",
        "# train data performance\n",
        "import sklearn\n",
        "from sklearn.linear_model import LinearRegression\n",
        "df_lm = LinearRegression()\n",
        "df_lm.fit(X_train, y_train)\n",
        "predT=df_lm.predict(X_train)\n",
        "evalmetric(y_train,predT)"
      ],
      "metadata": {
        "id": "BgBCwe9gRukQ",
        "outputId": "e4ee59e1-b009-4a94-a2ed-50f05265b99c",
        "colab": {
          "base_uri": "https://localhost:8080/"
        }
      },
      "execution_count": 14,
      "outputs": [
        {
          "output_type": "stream",
          "name": "stdout",
          "text": [
            "MSE: 13617878.611029424\n",
            "RMSE: 3690.240996334714\n",
            "MAE: 2420.3923973752335\n",
            "MAPE: 28.436213974145293\n",
            "R-Squared: 0.8677546171602639\n"
          ]
        }
      ]
    },
    {
      "cell_type": "code",
      "source": [
        "#Q11 test data evaluation\n",
        "pred=df_lm.predict(X_test)\n",
        "evalmetric(y_test,pred)"
      ],
      "metadata": {
        "id": "N-a5JkskIB_g",
        "outputId": "a09e9ccc-3d94-4316-a82d-6c52ffe8f86e",
        "colab": {
          "base_uri": "https://localhost:8080/"
        }
      },
      "execution_count": 15,
      "outputs": [
        {
          "output_type": "stream",
          "name": "stdout",
          "text": [
            "MSE: 16395263.359436868\n",
            "RMSE: 4049.106489021605\n",
            "MAE: 2386.881758705481\n",
            "MAPE: 27.984324672786514\n",
            "R-Squared: 0.8461544250476123\n"
          ]
        }
      ]
    },
    {
      "cell_type": "markdown",
      "source": [
        "Q12 -Based on the performance of test and training model, can we say there is overfitting or not in the performace of liner model?\n",
        "\n",
        "We can observe that R-Squared is quite high both on training and test data (about ~0.8677 on train data and about ~0.8461 on test data). Therefore, we can assume that there is no evidence of strong overfitting."
      ],
      "metadata": {
        "id": "jhUzCvI_SLJF"
      }
    },
    {
      "cell_type": "code",
      "source": [
        "#Q13- Use Lasso regression to evaluate the performance of test and train data   using evalmetric\n",
        "from sklearn.linear_model import Ridge, Lasso, ElasticNet, LassoCV, RidgeCV\n",
        "lasso2 = Lasso()\n",
        "lasso2.fit(X_train, y_train)"
      ],
      "metadata": {
        "id": "VNrzaVlFSeUr",
        "colab": {
          "base_uri": "https://localhost:8080/"
        },
        "outputId": "ec44b3df-9edb-482b-ea63-956ff91990d3"
      },
      "execution_count": 16,
      "outputs": [
        {
          "output_type": "execute_result",
          "data": {
            "text/plain": [
              "Lasso()"
            ]
          },
          "metadata": {},
          "execution_count": 16
        }
      ]
    },
    {
      "cell_type": "code",
      "source": [
        "predL=lasso2.predict(X_train)\n",
        "evalmetric(y_train,predL)"
      ],
      "metadata": {
        "colab": {
          "base_uri": "https://localhost:8080/"
        },
        "id": "6GIw4gedah0Y",
        "outputId": "82748809-736d-4e1e-acd3-c32952b17db0"
      },
      "execution_count": 17,
      "outputs": [
        {
          "output_type": "stream",
          "name": "stdout",
          "text": [
            "MSE: 13620186.418222288\n",
            "RMSE: 3690.5536736677177\n",
            "MAE: 2418.6060989645284\n",
            "MAPE: 28.3861829971279\n",
            "R-Squared: 0.8677322056779423\n"
          ]
        }
      ]
    },
    {
      "cell_type": "code",
      "source": [
        "predL=lasso2.predict(X_test)\n",
        "evalmetric(y_test,predL)"
      ],
      "metadata": {
        "colab": {
          "base_uri": "https://localhost:8080/"
        },
        "id": "oBEjuladaoIL",
        "outputId": "d915b6a4-480e-4b59-b67f-725134fa6a2d"
      },
      "execution_count": 18,
      "outputs": [
        {
          "output_type": "stream",
          "name": "stdout",
          "text": [
            "MSE: 16397475.87123393\n",
            "RMSE: 4049.379689685067\n",
            "MAE: 2384.421619630618\n",
            "MAPE: 27.923271021548462\n",
            "R-Squared: 0.846133663859332\n"
          ]
        }
      ]
    },
    {
      "cell_type": "code",
      "source": [
        "#Q14 Use Ridge regreesionto evaluate the performance of test and train data   using evalmetric\n",
        "ridge2=Ridge()\n",
        "ridge2.fit(X_train,y_train)"
      ],
      "metadata": {
        "id": "h55W6wA6Tuww",
        "colab": {
          "base_uri": "https://localhost:8080/"
        },
        "outputId": "0d5ca9f9-b9bd-4228-a860-d5b9c2339089"
      },
      "execution_count": 21,
      "outputs": [
        {
          "output_type": "execute_result",
          "data": {
            "text/plain": [
              "Ridge()"
            ]
          },
          "metadata": {},
          "execution_count": 21
        }
      ]
    },
    {
      "cell_type": "code",
      "source": [
        "predR= ridge2.predict(X_train)\n",
        "evalmetric(y_train,predR)"
      ],
      "metadata": {
        "colab": {
          "base_uri": "https://localhost:8080/"
        },
        "id": "qOnRatKla_Cn",
        "outputId": "ac12f751-59ba-4392-aaad-6a4dfddcf85b"
      },
      "execution_count": 22,
      "outputs": [
        {
          "output_type": "stream",
          "name": "stdout",
          "text": [
            "MSE: 13646548.843169978\n",
            "RMSE: 3694.1235554824066\n",
            "MAE: 2422.9559862611786\n",
            "MAPE: 28.47006020332846\n",
            "R-Squared: 0.8674761959807372\n"
          ]
        }
      ]
    },
    {
      "cell_type": "code",
      "source": [
        "predR=ridge2.predict(X_test)\n",
        "evalmetric(y_test,predR)"
      ],
      "metadata": {
        "colab": {
          "base_uri": "https://localhost:8080/"
        },
        "id": "tjolPZsbbP0b",
        "outputId": "63089452-60f5-4d95-a109-434bf77a76fe"
      },
      "execution_count": 23,
      "outputs": [
        {
          "output_type": "stream",
          "name": "stdout",
          "text": [
            "MSE: 16386346.26392039\n",
            "RMSE: 4048.0052203425316\n",
            "MAE: 2389.4522200025604\n",
            "MAPE: 28.022200369524814\n",
            "R-Squared: 0.8462380989512613\n"
          ]
        }
      ]
    },
    {
      "cell_type": "markdown",
      "source": [
        "Q15- Did you get any improvement on test data using Ridge and Lasso?\n",
        "Explain why? \n",
        "\n",
        "From Ridge and Lasso we can see there is no significiant and substantial changes in the performance of the model. It is because Ridge and Lasso improve performance when there is overfitting by penalizing. However, in our case as there is no evidence of strong overfitting, Ridge and Lasso do not have any substantial impact on the model.\n"
      ],
      "metadata": {
        "id": "GwvBE_fgUg02"
      }
    },
    {
      "cell_type": "code",
      "source": [
        "#Q16-Use Decison Tree Regression to evaluate the performance of test and train data   using evalmetric\n",
        "from sklearn.tree import DecisionTreeRegressor\n",
        "dtr=DecisionTreeRegressor()\n",
        "dtr.fit(X_train,y_train)\n",
        "\n",
        "print('Train data')\n",
        "y_pred = dtr.predict(X_train)\n",
        "evalmetric(y_train,y_pred)\n",
        "\n",
        "print('Test data')\n",
        "y_pred2=dtr.predict(X_test)\n",
        "evalmetric(y_test, y_pred2)"
      ],
      "metadata": {
        "id": "d5b6RiZjUeuc",
        "colab": {
          "base_uri": "https://localhost:8080/"
        },
        "outputId": "c8793531-8e99-4ac9-b7e4-463fe9afedcf"
      },
      "execution_count": 26,
      "outputs": [
        {
          "output_type": "stream",
          "name": "stdout",
          "text": [
            "Train data\n",
            "MSE: 83753.97633482143\n",
            "RMSE: 289.40279254841585\n",
            "MAE: 77.53468948412699\n",
            "MAPE: 0.7629440866398477\n",
            "R-Squared: 0.999186651828738\n",
            "Test data\n",
            "MSE: 4461418.225255763\n",
            "RMSE: 2112.2069560665127\n",
            "MAE: 894.0759246031746\n",
            "MAPE: 6.990340627735729\n",
            "R-Squared: 0.958136113039473\n"
          ]
        }
      ]
    },
    {
      "cell_type": "code",
      "source": [
        "#Q17-Use Random Forest to evaluate the performance of test and train data   using evalmetric\n",
        "from sklearn.ensemble import RandomForestRegressor\n",
        "rfr = RandomForestRegressor()\n",
        "rfr.fit(X_train,y_train)\n",
        "\n",
        "print('Train Data')\n",
        "y_pred = rfr.predict(X_train)\n",
        "evalmetric(y_train,y_pred)\n",
        "\n",
        "print('Test Data')\n",
        "y_pred2=rfr.predict(X_test)\n",
        "evalmetric(y_test,y_pred2)"
      ],
      "metadata": {
        "id": "ZEcUQ9fbVJfI",
        "colab": {
          "base_uri": "https://localhost:8080/"
        },
        "outputId": "30ffab8d-5e7b-48ef-fc2e-d6f9d580de14"
      },
      "execution_count": 27,
      "outputs": [
        {
          "output_type": "stream",
          "name": "stdout",
          "text": [
            "Train Data\n",
            "MSE: 439838.23549114296\n",
            "RMSE: 663.2030122753839\n",
            "MAE: 306.6850983640665\n",
            "MAPE: 2.4517404787172805\n",
            "R-Squared: 0.9957286610123717\n",
            "Test Data\n",
            "MSE: 1368419.558707796\n",
            "RMSE: 1169.794665190347\n",
            "MAE: 630.4037763698802\n",
            "MAPE: 5.312693170860612\n",
            "R-Squared: 0.9871593832212328\n"
          ]
        }
      ]
    },
    {
      "cell_type": "markdown",
      "source": [
        "Q18-Why Random forest perform better than Decison Tree on test data?\n",
        "\n",
        "Random forest combines several decision tress and combines their predictions. Therefore, it reduces overfitting & variance, improves bias & generalization. By doing so, Random forest performs better than Decision Tree on test data."
      ],
      "metadata": {
        "id": "QhddVy3qVis7"
      }
    },
    {
      "cell_type": "markdown",
      "source": [
        "Q19- Which regression technique among Linear Regresssion, Lasso Regression ,Ridge Regression, Decision Tree and Random Forest  provide best performance on test data?\n",
        "\n",
        "Usually regression is most effective when the relationship between independent and dependent variables are linear. Lasso and Ridge regressions improve the performance of regression model by fixing the overfitting issue. \n",
        "\n",
        "Decision Tree and Random Forest however, are able to be effective even when the relationship between independent and dependent variables are non-linear. Random Forest combines several Decision trees together, therefore decrease the impact of overfitting and increasing generalization of the model.\n",
        "\n",
        "In this specific model we can observe the following R-squared values:\n",
        "\n",
        "Linear-regression: ~0.8461\n",
        "Lasso: ~0.8461\n",
        "Ridge: ~0.8462\n",
        "Decision tree: ~0.9581\n",
        "Random Forest: ~0.9871\n",
        "\n",
        "So, we see that Random Forest performed best on this test data\n",
        "\n"
      ],
      "metadata": {
        "id": "nFNRTXZrVUAt"
      }
    }
  ]
}