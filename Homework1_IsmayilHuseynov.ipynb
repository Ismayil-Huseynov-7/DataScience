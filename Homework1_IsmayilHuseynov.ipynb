{
  "nbformat": 4,
  "nbformat_minor": 0,
  "metadata": {
    "colab": {
      "provenance": []
    },
    "kernelspec": {
      "name": "python3",
      "display_name": "Python 3"
    },
    "language_info": {
      "name": "python"
    }
  },
  "cells": [
    {
      "cell_type": "code",
      "execution_count": null,
      "metadata": {
        "colab": {
          "base_uri": "https://localhost:8080/"
        },
        "id": "jrVeHsm1rpdT",
        "outputId": "bec7c053-c564-4815-ef6b-4809e1bee3b1"
      },
      "outputs": [
        {
          "output_type": "stream",
          "name": "stdout",
          "text": [
            "What is your name? Ismayil\n",
            "What is your age? 19\n",
            "Your name is  Ismayil. Your age is 19\n"
          ]
        }
      ],
      "source": [
        "#Q1-Get your name and age as input and print it in the form like\n",
        "#Your name is Hulisi. Your age is 43\n",
        "name=input('What is your name? ')\n",
        "age=input('What is your age? ')\n",
        "print(\"Your name is \",name + \". Your age is\",age)"
      ]
    },
    {
      "cell_type": "code",
      "source": [
        "#Q2-Write a if statement for a given two number is equal or not\n",
        "a=43\n",
        "b=54\n",
        "if(a==b):\n",
        "  print(\"These numbers are equal\")\n",
        "else:\n",
        "  print(\"These numbers are not equal\")"
      ],
      "metadata": {
        "id": "7Sfg03_PuVWa",
        "colab": {
          "base_uri": "https://localhost:8080/"
        },
        "outputId": "806c1776-da7a-431f-9e7b-d9f2d8f325b1"
      },
      "execution_count": null,
      "outputs": [
        {
          "output_type": "stream",
          "name": "stdout",
          "text": [
            "These numbers are not equal\n"
          ]
        }
      ]
    },
    {
      "cell_type": "code",
      "source": [
        "#Q3-Write a if statement for first number is greater (a), equal or less than second number.(b)\n",
        "a=43\n",
        "b=54\n",
        "if(a>b):\n",
        "  print(\"First number is greater than the second number\")\n",
        "elif(a==b):\n",
        "  print(\"First number is equal to the second number\")\n",
        "else:\n",
        "  print(\"First number is smaller than the second number\")"
      ],
      "metadata": {
        "id": "NtUibZ07u5gs",
        "colab": {
          "base_uri": "https://localhost:8080/"
        },
        "outputId": "3022b85c-01a5-4f03-93e0-d806b5c0da62"
      },
      "execution_count": null,
      "outputs": [
        {
          "output_type": "stream",
          "name": "stdout",
          "text": [
            "First number is smaller than the second number\n"
          ]
        }
      ]
    },
    {
      "cell_type": "code",
      "source": [
        "#Q4- Using for loop, print 1,2,3,4,5\n",
        "for k in range(1,6):\n",
        "  print(k)"
      ],
      "metadata": {
        "id": "U1UMQv36wNHP",
        "colab": {
          "base_uri": "https://localhost:8080/"
        },
        "outputId": "5d00ffd8-a2ee-4071-8342-152459d77585"
      },
      "execution_count": null,
      "outputs": [
        {
          "output_type": "stream",
          "name": "stdout",
          "text": [
            "1\n",
            "2\n",
            "3\n",
            "4\n",
            "5\n"
          ]
        }
      ]
    },
    {
      "cell_type": "code",
      "source": [
        "#Q5-Using while loop, print 5,4,3,2,1\n",
        "k=5\n",
        "while k>=1:\n",
        "  print(k)\n",
        "  k -= 1"
      ],
      "metadata": {
        "id": "bh5Lga7XxGY8",
        "colab": {
          "base_uri": "https://localhost:8080/"
        },
        "outputId": "58a19b1b-83d7-4a31-dd16-abd9a2914db0"
      },
      "execution_count": null,
      "outputs": [
        {
          "output_type": "stream",
          "name": "stdout",
          "text": [
            "5\n",
            "4\n",
            "3\n",
            "2\n",
            "1\n"
          ]
        }
      ]
    },
    {
      "cell_type": "code",
      "source": [
        "#Q6- Using for loop, print 10,6,4,2,0\n",
        "#Hint Print if number is not equal to 8.\n",
        "for i in [10,8,6,4,2,0]:\n",
        "  if i != 8:\n",
        "    print(i)"
      ],
      "metadata": {
        "id": "cXTTDS49xSoi",
        "colab": {
          "base_uri": "https://localhost:8080/"
        },
        "outputId": "bf76d2d2-46c8-40b6-818f-8941a81b03c2"
      },
      "execution_count": null,
      "outputs": [
        {
          "output_type": "stream",
          "name": "stdout",
          "text": [
            "10\n",
            "6\n",
            "4\n",
            "2\n",
            "0\n"
          ]
        }
      ]
    },
    {
      "cell_type": "code",
      "source": [
        "#Q7-Write a method to calculate age for a given date of birth year.\n",
        "#Use this method on orer to calculate age of person if date of birth is 1944\n",
        "# if age is the name of function, print(age(1944))\n",
        "birth_year = input(\"Enter your birth year: \")\n",
        "age = 2023 - int(birth_year)\n",
        "print(age)\n",
        "\n"
      ],
      "metadata": {
        "id": "geUjb-vuyYbF",
        "colab": {
          "base_uri": "https://localhost:8080/"
        },
        "outputId": "38aaf94d-10ef-47b0-91c3-649d06603bfe"
      },
      "execution_count": null,
      "outputs": [
        {
          "output_type": "stream",
          "name": "stdout",
          "text": [
            "Enter your birth year: 1944\n",
            "79\n"
          ]
        }
      ]
    },
    {
      "cell_type": "code",
      "source": [
        "#Q8-Write a class named arithmetic with method for calculating addition, substraction, multiplication and division of two numbers.\n",
        "class arithmetic:\n",
        "  def addition(x,y):\n",
        "    return x+y\n",
        "\n",
        "  def subtraction(x,y):\n",
        "    return x-y\n",
        "\n",
        "  def multiplication(x,y):\n",
        "    return x*y\n",
        "\n",
        "  def division(x,y):\n",
        "    if y==0:\n",
        "      print(\"Cannot divide by zero\")\n",
        "    else:\n",
        "      return x/y\n",
        "\n",
        "arithmetic.division(4,12)"
      ],
      "metadata": {
        "id": "YcyFzE3fzC7_",
        "outputId": "15ecd940-c7a6-45fc-dbb8-3b2d51d602ff",
        "colab": {
          "base_uri": "https://localhost:8080/"
        }
      },
      "execution_count": null,
      "outputs": [
        {
          "output_type": "execute_result",
          "data": {
            "text/plain": [
              "0.3333333333333333"
            ]
          },
          "metadata": {},
          "execution_count": 52
        }
      ]
    },
    {
      "cell_type": "code",
      "source": [
        "#Q9- write a for loop or method  to calculate summation of first n numbers\n",
        "#i.e if n=3, it will print or return 6 (1+2+3)\n",
        "\n",
        "n = input(\"Enter value of n: \")\n",
        "n=int(n)\n",
        "total_sum = 0\n",
        "for i in range(1,n+1):\n",
        "  total_sum = total_sum + i\n",
        "print(total_sum)"
      ],
      "metadata": {
        "id": "AUJWr5YqzadI",
        "colab": {
          "base_uri": "https://localhost:8080/"
        },
        "outputId": "81a71fd9-206f-4c33-d8d3-0659b97c5c08"
      },
      "execution_count": null,
      "outputs": [
        {
          "output_type": "stream",
          "name": "stdout",
          "text": [
            "Enter value of n: 3\n",
            "6\n"
          ]
        }
      ]
    },
    {
      "cell_type": "code",
      "source": [
        "#Q10-Generate 10 numbers between 0 and 1 and add into list. Print first three elements of that list. \n",
        "import random\n",
        "\n",
        "random_numbers = [random.random() for _ in range(10)]\n",
        "print(random_numbers[:3])"
      ],
      "metadata": {
        "id": "hmtvJdCL02qx",
        "colab": {
          "base_uri": "https://localhost:8080/"
        },
        "outputId": "6d669edc-a687-4c5a-acbd-1f751f66367e"
      },
      "execution_count": null,
      "outputs": [
        {
          "output_type": "stream",
          "name": "stdout",
          "text": [
            "[0.7681359269157942, 0.7084056037490754, 0.09194674001514547]\n"
          ]
        }
      ]
    },
    {
      "cell_type": "code",
      "source": [
        "#Q11-For a given number n, print numbers divisible by 3 up to that number(n included)\n",
        "#Example: if n=15, print 3,6,9,12,15\n",
        "#Hint you can use modulus statement (if (i%3==0))\n",
        "n=15\n",
        "for i in range(1, n+1):\n",
        "  if i % 3 == 0:\n",
        "    print(i)"
      ],
      "metadata": {
        "id": "5O6Y2CujcAAs",
        "outputId": "a3ebe9af-0e22-4cbd-deed-8800473b2f86",
        "colab": {
          "base_uri": "https://localhost:8080/"
        }
      },
      "execution_count": null,
      "outputs": [
        {
          "output_type": "stream",
          "name": "stdout",
          "text": [
            "3\n",
            "6\n",
            "9\n",
            "12\n",
            "15\n"
          ]
        }
      ]
    }
  ]
}